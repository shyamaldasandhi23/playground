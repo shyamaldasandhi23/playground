{
 "cells": [
  {
   "cell_type": "code",
   "execution_count": 1,
   "id": "ead7f15a",
   "metadata": {},
   "outputs": [
    {
     "ename": "NameError",
     "evalue": "name 'AgentState' is not defined",
     "output_type": "error",
     "traceback": [
      "\u001b[1;31m---------------------------------------------------------------------------\u001b[0m",
      "\u001b[1;31mNameError\u001b[0m                                 Traceback (most recent call last)",
      "Cell \u001b[1;32mIn[1], line 1\u001b[0m\n\u001b[1;32m----> 1\u001b[0m \u001b[38;5;28;01mdef\u001b[39;00m\u001b[38;5;250m \u001b[39m\u001b[38;5;21mexecute_tools\u001b[39m(state: \u001b[43mAgentState\u001b[49m)\u001b[38;5;241m-\u001b[39m\u001b[38;5;241m>\u001b[39m AgentState:\n\u001b[0;32m      2\u001b[0m     last \u001b[38;5;241m=\u001b[39m state[\u001b[38;5;124m'\u001b[39m\u001b[38;5;124mmessages\u001b[39m\u001b[38;5;124m'\u001b[39m][\u001b[38;5;241m-\u001b[39m\u001b[38;5;241m1\u001b[39m]\n\u001b[0;32m      3\u001b[0m     \u001b[38;5;28mprint\u001b[39m(\u001b[38;5;124mf\u001b[39m\u001b[38;5;124m\"\u001b[39m\u001b[38;5;124m--execute_tolls message--\u001b[39m\u001b[38;5;124m\"\u001b[39m)\n",
      "\u001b[1;31mNameError\u001b[0m: name 'AgentState' is not defined"
     ]
    }
   ],
   "source": [
    "def execute_tools(state: AgentState)-> AgentState:\n",
    "    last = state['messages'][-1]\n",
    "    print(f\"--execute_tolls message--\")\n",
    "    print(f\"{last}\")\n",
    "    print(f\"---END--\")\n",
    "    tool_calls = last.additional_kwargs.get(\"tool_calls\",[])\n",
    "\n",
    "    if len(tool_calls)>1:\n",
    "        raise ValueError(\"Multiple tools calls are not allowed\")\n",
    "    new_messages = []\n",
    "\n",
    "    for call in tool_calls:\n",
    "        name = call[\"function\"][\"name\"]\n",
    "        print(f\"name--------->{name}\")\n",
    "        args = json.loads(call[\"function\"][\"arguments\"])\n",
    "        print(f\"args---->{args}\")\n",
    "        result = TOOL_EXECUTERS[name](**args)\n",
    "        print(f\"toolex_resukt---->{result}\")\n",
    "        tool_msg = ToolMessage(\n",
    "            tool_call_id = call[\"id\"],\n",
    "            content=f\"Tool  result of {name}({args['a']},{args['b']})={result}\"\n",
    "        )\n",
    "        print(f\"----tool_msg--{tool_msg}---END\")\n",
    "        new_messages.append(tool_msg)\n",
    "        print(f\"----updated tool_msg---{new_messages}---END\")\n",
    "    return {\"messages\": state[\"messages\"] + new_messages}"
   ]
  },
  {
   "cell_type": "code",
   "execution_count": 3,
   "id": "89396bf6",
   "metadata": {},
   "outputs": [
    {
     "ename": "SyntaxError",
     "evalue": "invalid syntax. Perhaps you forgot a comma? (3348197380.py, line 5)",
     "output_type": "error",
     "traceback": [
      "\u001b[1;36m  Cell \u001b[1;32mIn[3], line 5\u001b[1;36m\u001b[0m\n\u001b[1;33m    graph.add_conditional_edges(\"agent\", should_continue, {\"tools: \"tools\", \"end\" : END\"})\u001b[0m\n\u001b[1;37m                                                           ^\u001b[0m\n\u001b[1;31mSyntaxError\u001b[0m\u001b[1;31m:\u001b[0m invalid syntax. Perhaps you forgot a comma?\n"
     ]
    }
   ],
   "source": [
    "graph = StateGraph(AgentState)\n",
    "graph.add_node(\"agent\", llm_call)\n",
    "graph.add_node(\"tools\",execute_tools)\n",
    "graph.set_entry_point(\"agent\")\n",
    "graph.add_conditional_edges(\"agent\", should_continue, {\"tools: \"tools\", \"end\" : END\"})\n",
    "graph.add_edge(\"tools\",\"agent\")\n",
    "\n",
    "app = graph.compile()"
   ]
  },
  {
   "cell_type": "code",
   "execution_count": 2,
   "id": "5022046e",
   "metadata": {},
   "outputs": [
    {
     "ename": "NameError",
     "evalue": "name 'app' is not defined",
     "output_type": "error",
     "traceback": [
      "\u001b[1;31m---------------------------------------------------------------------------\u001b[0m",
      "\u001b[1;31mNameError\u001b[0m                                 Traceback (most recent call last)",
      "Cell \u001b[1;32mIn[2], line 2\u001b[0m\n\u001b[0;32m      1\u001b[0m \u001b[38;5;28;01mfrom\u001b[39;00m\u001b[38;5;250m \u001b[39m\u001b[38;5;21;01mIPython\u001b[39;00m\u001b[38;5;21;01m.\u001b[39;00m\u001b[38;5;21;01mdisplay\u001b[39;00m\u001b[38;5;250m \u001b[39m\u001b[38;5;28;01mimport\u001b[39;00m Image, display\n\u001b[1;32m----> 2\u001b[0m display(Image(\u001b[43mapp\u001b[49m\u001b[38;5;241m.\u001b[39mget_graph()\u001b[38;5;241m.\u001b[39mdraw_mermaid_png()))\n",
      "\u001b[1;31mNameError\u001b[0m: name 'app' is not defined"
     ]
    }
   ],
   "source": [
    "from IPython.display import Image, display\n",
    "display(Image(app.get_graph().draw_mermaid_png()))"
   ]
  }
 ],
 "metadata": {
  "kernelspec": {
   "display_name": "LLM",
   "language": "python",
   "name": "python3"
  },
  "language_info": {
   "codemirror_mode": {
    "name": "ipython",
    "version": 3
   },
   "file_extension": ".py",
   "mimetype": "text/x-python",
   "name": "python",
   "nbconvert_exporter": "python",
   "pygments_lexer": "ipython3",
   "version": "3.10.0"
  }
 },
 "nbformat": 4,
 "nbformat_minor": 5
}
